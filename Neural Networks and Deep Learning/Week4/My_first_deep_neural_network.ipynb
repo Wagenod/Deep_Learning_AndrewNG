{
 "cells": [
  {
   "cell_type": "markdown",
   "metadata": {
    "heading_collapsed": true
   },
   "source": [
    "# 0. How will work my Deep Neural Network"
   ]
  },
  {
   "cell_type": "markdown",
   "metadata": {
    "hidden": true
   },
   "source": [
    "<u>**TEXT:**</u>\n",
    "    1. Initialize neural network\n",
    "    2. Loop:\n",
    "        - forward propagation;\n",
    "        - compute cost;\n",
    "        - backward propagation;\n",
    "        - update parameters;\n",
    "    3. Use DNN to predict.\n",
    "<u>** GENERAL CODE OF MAIN FUNCTION:**</u>\n",
    "```python\n",
    "def L_nn(X,Y, layers_dims, learning_rate = ..., print_cost = ..., num_epochs = ...):\n",
    "        parameters = init_nn(layers_dims);  \n",
    "        ...\n",
    "        for epoch in range(num_epochs):\n",
    "            ...\n",
    "            AL, caches = model_forward(X,parameters); \n",
    "            ...\n",
    "            cost = compute_cost(AL,Y);     \n",
    "            ...\n",
    "            grads = model_backward(AL, Y, caches);   \n",
    "            ...\n",
    "            parameters = update_parameters(grads, learning_rate, parameters);\n",
    "            ...\n",
    "        return parameters; \n",
    "```\n",
    "Let's get started! "
   ]
  },
  {
   "cell_type": "markdown",
   "metadata": {
    "heading_collapsed": true
   },
   "source": [
    "# 1. Import required libraries"
   ]
  },
  {
   "cell_type": "code",
   "execution_count": 1,
   "metadata": {
    "hidden": true
   },
   "outputs": [],
   "source": [
    "import numpy as np\n",
    "from matplotlib import pyplot as plt\n",
    "from testCases_v4 import *\n",
    "from matplotlib import pyplot as plt\n",
    "import seaborn as sns\n",
    "sns.set()\n",
    "%matplotlib inline\n",
    "np.random.seed(1)"
   ]
  },
  {
   "cell_type": "markdown",
   "metadata": {
    "heading_collapsed": true
   },
   "source": [
    "# 2. Initialize neural network        "
   ]
  },
  {
   "cell_type": "code",
   "execution_count": 2,
   "metadata": {
    "code_folding": [
     2,
     6
    ],
    "hidden": true
   },
   "outputs": [],
   "source": [
    "def init_nn(layers_dims):\n",
    "    \"\"\"\n",
    "    Arguments:\n",
    "        layers_dims - turple of of size L (number nn layers). Each element  i.e layers_dims[i] is number\n",
    "        of neurans in layer i.\n",
    "        \n",
    "    Return:\n",
    "        parameters - dict weights of neural network ({\"W1\":[...],\"b1\":[...],...})  \n",
    "    \"\"\"\n",
    "    parameters = dict();\n",
    "    L = len (layers_dims) - 1;\n",
    "    \n",
    "    for l in range(1, L + 1): # l = 1,2,3...L\n",
    "        parameters['W' + str(l)] = np.random.randn(layers_dims[l],layers_dims[l-1])*0.01;\n",
    "        parameters['b' + str(l)] = np.zeros((layers_dims[l],1));\n",
    "        \n",
    "    return parameters;"
   ]
  },
  {
   "cell_type": "markdown",
   "metadata": {
    "heading_collapsed": true
   },
   "source": [
    "# 3. Activation functions"
   ]
  },
  {
   "cell_type": "code",
   "execution_count": 3,
   "metadata": {
    "code_folding": [
     0
    ],
    "hidden": true
   },
   "outputs": [],
   "source": [
    "def sigmoid(Z):\n",
    "    \"\"\"\n",
    "    Arguments:\n",
    "            Z - weighted sum of input for corresponding layer, i.e. for layer 2 Z2 = np.dot(W2,A1) + b2;\n",
    "    \n",
    "    Returns:\n",
    "            Sigmoid value of Z\n",
    "    \"\"\"\n",
    "    return 1/(1 + np.exp(-Z))"
   ]
  },
  {
   "cell_type": "code",
   "execution_count": 4,
   "metadata": {
    "code_folding": [
     0
    ],
    "hidden": true
   },
   "outputs": [],
   "source": [
    "def relu(Z):\n",
    "    \"\"\"\n",
    "    Arguments:\n",
    "            Z- weighted sum of input for corresponding layer, i.e. for layer 2 Z2 = np.dot(W2,A1) + b2;\n",
    "            \n",
    "    Returns: \n",
    "            ReLu value of Z (max(0,Z))\n",
    "    \"\"\"\n",
    "    #print ('relu activation:')\n",
    "    #print(Z.shape)\n",
    "    #print (np.maximum(0,Z).shape)\n",
    "    return np.maximum(0,Z);"
   ]
  },
  {
   "cell_type": "code",
   "execution_count": 88,
   "metadata": {
    "code_folding": [
     0
    ],
    "hidden": true
   },
   "outputs": [],
   "source": [
    "def divide_relu(Z):\n",
    "    Z[Z<0] = 0\n",
    "    Z[Z>0] = 1\n",
    "    return Z"
   ]
  },
  {
   "cell_type": "code",
   "execution_count": 6,
   "metadata": {
    "code_folding": [
     0
    ],
    "hidden": true
   },
   "outputs": [],
   "source": [
    "def divide_sigmoid(Z):\n",
    "    return sigmoid(Z)*(1 - sigmoid(Z));"
   ]
  },
  {
   "cell_type": "markdown",
   "metadata": {
    "heading_collapsed": true
   },
   "source": [
    "# 4. Forward propagation"
   ]
  },
  {
   "cell_type": "code",
   "execution_count": 7,
   "metadata": {
    "code_folding": [],
    "hidden": true
   },
   "outputs": [],
   "source": [
    "def linear_forward(A_prev, W, b):\n",
    "    Z = np.dot(W,A_prev) + b;\n",
    "    #print('linear forward:')\n",
    "    #print(A_prev.shape)\n",
    "    #print(W.shape)\n",
    "    #print(b.shape)\n",
    "    #print (Z.shape)\n",
    "    #print('-------')\n",
    "    cache = Z\n",
    "    return Z, cache;"
   ]
  },
  {
   "cell_type": "code",
   "execution_count": 8,
   "metadata": {
    "code_folding": [],
    "hidden": true
   },
   "outputs": [],
   "source": [
    "def linear_activation_forward(A_prev, W, b, activation):    \n",
    "    Z, activation_cache = linear_forward(A_prev, W, b);\n",
    "    #print ('linear_activ_forw:')\n",
    "    #print(Z.shape)\n",
    "    if activation == \"relu\":\n",
    "        A = relu(Z);\n",
    "    elif activation == \"sigmoid\":\n",
    "        A = sigmoid(Z);\n",
    "    #print (A.shape)\n",
    "    #print('------------')\n",
    "    linear_cache = (A_prev, W, b)\n",
    "    caches = (linear_cache, activation_cache)\n",
    "    return A, caches;"
   ]
  },
  {
   "cell_type": "code",
   "execution_count": 9,
   "metadata": {
    "code_folding": [
     5
    ],
    "hidden": true
   },
   "outputs": [],
   "source": [
    "def model_forward(X,parameters): \n",
    "    caches = [];\n",
    "    L = len(parameters) // 2;\n",
    "    A_prev = X;\n",
    "    \n",
    "    for l in range(1,L):\n",
    "        W = parameters[\"W\" + str(l)];\n",
    "        b = parameters[\"b\" + str(l)];\n",
    "        A_prev, current_cache = linear_activation_forward(A_prev, W, b, activation = \"relu\");\n",
    "        caches.append(current_cache);\n",
    "     \n",
    "    AL, current_cache = linear_activation_forward(A_prev, parameters[\"W\" + str(L)], parameters[\"b\" + str(L)], activation = \"sigmoid\" );\n",
    "    caches.append(current_cache)\n",
    "    return AL, caches;"
   ]
  },
  {
   "cell_type": "markdown",
   "metadata": {
    "heading_collapsed": true
   },
   "source": [
    "# 5. Compute cost"
   ]
  },
  {
   "cell_type": "code",
   "execution_count": 10,
   "metadata": {
    "code_folding": [],
    "hidden": true
   },
   "outputs": [],
   "source": [
    "def compute_cost(AL, Y):\n",
    "    m = Y.shape[1];\n",
    "    return -np.sum(Y*np.log(AL) + (1 - Y)*np.log(1 - AL))/m"
   ]
  },
  {
   "cell_type": "markdown",
   "metadata": {
    "heading_collapsed": true
   },
   "source": [
    "# 6. Backward propagation"
   ]
  },
  {
   "cell_type": "code",
   "execution_count": 11,
   "metadata": {
    "code_folding": [
     0
    ],
    "hidden": true
   },
   "outputs": [],
   "source": [
    "def linear_backward(linear_cache, dZ):\n",
    "    A_prev, W, b = linear_cache\n",
    "    m = A_prev.shape[1]\n",
    "    \n",
    "    dW = np.dot(dZ, A_prev.transpose()) / m;\n",
    "    db = np.sum(dZ, axis = 1, keepdims = True) / m;\n",
    "    dA_prev = np.dot(W.transpose(),dZ)\n",
    "    return dA_prev, dW, db"
   ]
  },
  {
   "cell_type": "code",
   "execution_count": 12,
   "metadata": {
    "code_folding": [
     0
    ],
    "hidden": true
   },
   "outputs": [],
   "source": [
    "def sigmoid_backward(Z, dA):\n",
    "    return dA*divide_sigmoid(Z);"
   ]
  },
  {
   "cell_type": "code",
   "execution_count": 13,
   "metadata": {
    "code_folding": [
     0
    ],
    "hidden": true
   },
   "outputs": [],
   "source": [
    "def relu_backward(Z, dA):\n",
    "    dZ = dA * divide_relu(Z);\n",
    "    return dZ;"
   ]
  },
  {
   "cell_type": "code",
   "execution_count": 14,
   "metadata": {
    "code_folding": [
     0
    ],
    "hidden": true
   },
   "outputs": [],
   "source": [
    "def linear_activation_backward(dA, cache, activation):\n",
    "    \n",
    "    linear_cache, activation_cache = cache\n",
    "    if activation == 'sigmoid':\n",
    "        dZ = sigmoid_backward(activation_cache, dA)\n",
    "        dA_prev, dW, db = linear_backward(linear_cache, dZ)\n",
    "    elif activation == 'relu':\n",
    "        dZ = relu_backward(activation_cache, dA)\n",
    "        dA_prev, dW, db = linear_backward(linear_cache, dZ)\n",
    "    \n",
    "    return dA_prev, dW, db"
   ]
  },
  {
   "cell_type": "code",
   "execution_count": 15,
   "metadata": {
    "code_folding": [
     0
    ],
    "hidden": true
   },
   "outputs": [],
   "source": [
    "def model_backward(AL, Y, caches): \n",
    "    grads = dict();\n",
    "    L = len(caches)\n",
    "    \n",
    "    dAL = - ( np.divide(Y,AL) - np.divide(1 - Y, 1 - AL));\n",
    "    dA_prev = dAL\n",
    "    current_cache = caches[L-1] # 0,1,2,...,L-1\n",
    "    grads[\"dA\" + str(L-1)], grads[\"dW\" + str(L)], grads[\"db\" + str(L)] = linear_activation_backward(  dAL, current_cache, activation = \"sigmoid\");\n",
    "    for l in range(L - 1, 0, -1):\n",
    "        current_cache = caches[l-1];\n",
    "        grads[\"dA\" + str(l-1)], grads[\"dW\" + str(l)], grads[\"db\" + str(l)] = linear_activation_backward(grads['dA' + str(l)], current_cache,  activation = \"relu\")\n",
    "    return grads;"
   ]
  },
  {
   "cell_type": "markdown",
   "metadata": {
    "heading_collapsed": true
   },
   "source": [
    "# 7. Update parameters"
   ]
  },
  {
   "cell_type": "code",
   "execution_count": 16,
   "metadata": {
    "hidden": true
   },
   "outputs": [],
   "source": [
    "def update_parameters (old_params, grads, learning_rate = 0.075):\n",
    "    \n",
    "    L = len(old_params) // 2\n",
    "    \n",
    "    for l in range(1, L + 1):\n",
    "        old_params['W' + str(l)] = old_params['W' + str(l)] - learning_rate*grads['dW' + str(l)];\n",
    "        old_params['b' + str(l)] = old_params['b' + str(l)] - learning_rate*grads['db' + str(l)];\n",
    "    \n",
    "    return old_params;"
   ]
  },
  {
   "cell_type": "markdown",
   "metadata": {
    "heading_collapsed": true
   },
   "source": [
    "# 8. Join all components in one function"
   ]
  },
  {
   "cell_type": "code",
   "execution_count": 92,
   "metadata": {
    "code_folding": [
     0
    ],
    "hidden": true
   },
   "outputs": [],
   "source": [
    "def my_DNN_model(X, Y, layers_dims, X_valid,Y_valid, learning_rate = 0.0075, num_epochs = 3000, print_cost = True):\n",
    "    \n",
    "    parameters = init_nn(layers_dims)\n",
    "    costs = dict()\n",
    "    costs['train'] = list()\n",
    "    costs['valid'] = list()\n",
    "    \n",
    "    for epoch in range(1, num_epochs + 1):\n",
    "        AL, caches = model_forward(X=X,parameters=parameters)\n",
    "        cost_train = compute_cost(AL=AL, Y=Y)\n",
    "        #compute validation cost error\n",
    "        AL_valid, caches_valid = model_forward(X = X_valid, parameters=parameters)\n",
    "        cost_valid = compute_cost(AL=AL_valid,Y=Y_valid)\n",
    "    \n",
    "        if print_cost and epoch%100 == 0:\n",
    "            print (\"Cost after epoch \" + str(epoch) + \" : train = \" + str(cost_train) + \"; valid = \" + str(cost_valid) )\n",
    "            costs['train'].append(cost_train)\n",
    "            costs['valid'].append(cost_valid)\n",
    "            \n",
    "        grads = model_backward(AL=AL, Y=Y, caches=caches)\n",
    "        parameters = update_parameters(grads=grads,learning_rate=learning_rate, old_params=parameters)\n",
    "\n",
    "    plot_cost_errors(costs, num_epochs, learning_rate)\n",
    "    return parameters"
   ]
  },
  {
   "cell_type": "code",
   "execution_count": 79,
   "metadata": {
    "code_folding": [
     0
    ],
    "hidden": true
   },
   "outputs": [],
   "source": [
    "def plot_cost_errors(costs, num_epochs, learning_rate, image_name_to_save = 'errors.png'):\n",
    "    \n",
    "    plt.plot(range(100,num_epochs + 100,100),np.squeeze(costs['train']))\n",
    "    plt.plot(range(100,num_epochs + 100,100), np.squeeze(costs['valid']))\n",
    "    \n",
    "    font = {'color':'black', 'fontname':'Arial', 'weight':'normal'}\n",
    "    \n",
    "    plt.ylabel('cost', size = 15, fontdict = font)\n",
    "    plt.xlabel('iterations (per tens)', size = 15, fontdict = font)\n",
    "             \n",
    "    plt.title(\"Learning rate =\" + str(learning_rate),  size = 20, color = 'black', fontname = 'Arial', weight = 'normal')\n",
    "             \n",
    "    plt.xticks(size = 12, color = 'black', fontname = 'Arial', weight = 'normal')\n",
    "    plt.yticks(size = 12, color = 'black', fontname = 'Arial', weight = 'normal')\n",
    "             \n",
    "    plt.xlim(100,num_epochs)\n",
    "    plt.legend(['Train error','Validation error'], loc = 'upper right')\n",
    "    plt.savefig(image_name_to_save, bbox_inches  = 'tight')"
   ]
  },
  {
   "cell_type": "code",
   "execution_count": 18,
   "metadata": {
    "code_folding": [],
    "hidden": true
   },
   "outputs": [],
   "source": [
    "def predict(X,parameters):\n",
    "    AL, caches = model_forward(X,parameters)\n",
    "    targets = (AL > 0.5)\n",
    "    return targets"
   ]
  },
  {
   "cell_type": "code",
   "execution_count": 19,
   "metadata": {
    "code_folding": [
     0
    ],
    "hidden": true
   },
   "outputs": [],
   "source": [
    "def accuracy(y_pred, y_true):\n",
    "    num_match = np.sum(y_pred*y_true) + np.sum((1-y_pred)*(1-y_true))\n",
    "    m = y_pred.shape[1]\n",
    "    return (num_match / m)*100"
   ]
  },
  {
   "cell_type": "markdown",
   "metadata": {},
   "source": [
    "# 9. Using model for cats classification"
   ]
  },
  {
   "cell_type": "markdown",
   "metadata": {
    "heading_collapsed": true
   },
   "source": [
    "## 9.1 Import required libraries"
   ]
  },
  {
   "cell_type": "code",
   "execution_count": 20,
   "metadata": {
    "hidden": true
   },
   "outputs": [
    {
     "name": "stderr",
     "output_type": "stream",
     "text": [
      "C:\\Users\\user_2018\\Anaconda3\\lib\\site-packages\\h5py\\__init__.py:36: FutureWarning: Conversion of the second argument of issubdtype from `float` to `np.floating` is deprecated. In future, it will be treated as `np.float64 == np.dtype(float).type`.\n",
      "  from ._conv import register_converters as _register_converters\n"
     ]
    }
   ],
   "source": [
    "from matplotlib import pyplot as plt\n",
    "from PIL import Image\n",
    "import h5py\n",
    "import warnings\n",
    "\n",
    "warnings.filterwarnings('ignore')\n",
    "plt.rcParams['figure.figsize'] = (8,8)\n"
   ]
  },
  {
   "cell_type": "markdown",
   "metadata": {
    "heading_collapsed": true
   },
   "source": [
    "## 9.2 Import dataset"
   ]
  },
  {
   "cell_type": "code",
   "execution_count": 21,
   "metadata": {
    "code_folding": [],
    "hidden": true
   },
   "outputs": [],
   "source": [
    "def load_data():\n",
    "    train_dataset = h5py.File('../datasets/train_catvnoncat.h5', \"r\")\n",
    "    train_set_x_orig = np.array(train_dataset[\"train_set_x\"][:]) # your train set features\n",
    "    train_set_y_orig = np.array(train_dataset[\"train_set_y\"][:]) # your train set labels\n",
    "\n",
    "    test_dataset = h5py.File('../datasets/test_catvnoncat.h5', \"r\")\n",
    "    test_set_x_orig = np.array(test_dataset[\"test_set_x\"][:]) # your test set features\n",
    "    test_set_y_orig = np.array(test_dataset[\"test_set_y\"][:]) # your test set labels\n",
    "\n",
    "    classes = np.array(test_dataset[\"list_classes\"][:]) # the list of classes\n",
    "    \n",
    "    train_set_y_orig = train_set_y_orig.reshape((1, train_set_y_orig.shape[0]))\n",
    "    test_set_y_orig = test_set_y_orig.reshape((1, test_set_y_orig.shape[0]))\n",
    "    \n",
    "    return train_set_x_orig, train_set_y_orig, test_set_x_orig, test_set_y_orig, classes"
   ]
  },
  {
   "cell_type": "code",
   "execution_count": 22,
   "metadata": {
    "hidden": true
   },
   "outputs": [],
   "source": [
    "train_x_orig, train_y, test_x_orig, test_y, classes = load_data()"
   ]
  },
  {
   "cell_type": "markdown",
   "metadata": {
    "heading_collapsed": true
   },
   "source": [
    "## 9.3 Exploratory dataset analysis"
   ]
  },
  {
   "cell_type": "markdown",
   "metadata": {
    "hidden": true
   },
   "source": [
    "**GENERAL PROPERTIES:**"
   ]
  },
  {
   "cell_type": "code",
   "execution_count": 23,
   "metadata": {
    "hidden": true
   },
   "outputs": [
    {
     "name": "stdout",
     "output_type": "stream",
     "text": [
      "We have 209 train images\n",
      "We have 50 test images\n",
      "Each images size: (64, 64)\n"
     ]
    }
   ],
   "source": [
    "print (\"We have {} train images\".format(train_x_orig.shape[0]))\n",
    "print (\"We have {} test images\".format(test_x_orig.shape[0]))\n",
    "print (\"Each images size: {}\".format(train_x_orig[0].shape[0:2]))"
   ]
  },
  {
   "cell_type": "markdown",
   "metadata": {
    "hidden": true
   },
   "source": [
    "**SHAPES:**"
   ]
  },
  {
   "cell_type": "code",
   "execution_count": 24,
   "metadata": {
    "hidden": true
   },
   "outputs": [
    {
     "name": "stdout",
     "output_type": "stream",
     "text": [
      "Shape of train_x_orig is (209, 64, 64, 3)\n",
      "Shape of train_y is (1, 209)\n",
      "Shape of test_x_orig is (50, 64, 64, 3)\n",
      "Shape of test_y is (1, 50)\n"
     ]
    }
   ],
   "source": [
    "print (\"Shape of train_x_orig is {}\".format(train_x_orig.shape))\n",
    "print (\"Shape of train_y is {}\".format(train_y.shape))\n",
    "print (\"Shape of test_x_orig is {}\".format(test_x_orig.shape))\n",
    "print (\"Shape of test_y is {}\".format(test_y.shape))"
   ]
  },
  {
   "cell_type": "markdown",
   "metadata": {
    "hidden": true
   },
   "source": [
    "**SHOW RANDOM PICTURE FROM TRAIN SET**"
   ]
  },
  {
   "cell_type": "code",
   "execution_count": 25,
   "metadata": {
    "hidden": true
   },
   "outputs": [
    {
     "data": {
      "text/plain": [
       "<matplotlib.image.AxesImage at 0x2091c910860>"
      ]
     },
     "execution_count": 25,
     "metadata": {},
     "output_type": "execute_result"
    },
    {
     "data": {
      "image/png": "[encoded data removed]",
      "text/plain": [
       "<Figure size 576x576 with 1 Axes>"
      ]
     },
     "metadata": {},
     "output_type": "display_data"
    }
   ],
   "source": [
    "m = train_x_orig.shape[1];\n",
    "number = np.random.randint(0,m-1)\n",
    "plt.imshow(train_x_orig[number])"
   ]
  },
  {
   "cell_type": "markdown",
   "metadata": {
    "hidden": true
   },
   "source": [
    "As usual, you reshape and standardize the images before feeding them to the network. The code is given in the cell below.\n",
    "<img src=\"GitHub/images/imvectorkiank.png\" style=\"width:500px;height:300px;\">\n",
    "<center> <u>Figure 1.</u> Image to vector conversion </center>"
   ]
  },
  {
   "cell_type": "markdown",
   "metadata": {
    "heading_collapsed": true
   },
   "source": [
    "## 9.4 Dataset preprocessing"
   ]
  },
  {
   "cell_type": "code",
   "execution_count": 26,
   "metadata": {
    "hidden": true
   },
   "outputs": [],
   "source": [
    "#flatting\n",
    "m_train = train_x_orig.shape[0] # number training examples\n",
    "m_test = test_x_orig.shape[0] #number test examples\n",
    "\n",
    "train_x_flatten = train_x_orig.reshape(m_train, 64*64*3).T\n",
    "test_x_flatten = test_x_orig.reshape(m_test, 64*64*3).T\n"
   ]
  },
  {
   "cell_type": "code",
   "execution_count": 27,
   "metadata": {
    "hidden": true
   },
   "outputs": [
    {
     "name": "stdout",
     "output_type": "stream",
     "text": [
      "New shape of training dataset: (12288, 209)\n",
      "New shape of test dataset: (12288, 50)\n"
     ]
    }
   ],
   "source": [
    "print (\"New shape of training dataset: {}\".format(train_x_flatten.shape))\n",
    "print (\"New shape of test dataset: {}\".format(test_x_flatten.shape))"
   ]
  },
  {
   "cell_type": "code",
   "execution_count": 28,
   "metadata": {
    "hidden": true
   },
   "outputs": [],
   "source": [
    "#normalize\n",
    "train_x_norm = train_x_flatten / 255.\n",
    "test_x_norm = test_x_flatten / 255."
   ]
  },
  {
   "cell_type": "markdown",
   "metadata": {},
   "source": [
    "## 9.5 Cats classification with my_DNN_model"
   ]
  },
  {
   "cell_type": "markdown",
   "metadata": {
    "heading_collapsed": true
   },
   "source": [
    "### 9.5.1 Model training"
   ]
  },
  {
   "cell_type": "code",
   "execution_count": 93,
   "metadata": {
    "collapsed": true,
    "hidden": true
   },
   "outputs": [
    {
     "name": "stdout",
     "output_type": "stream",
     "text": [
      "Cost after epoch 100 : train = 0.6531951828433923; valid = 0.753501620279823\n",
      "Cost after epoch 200 : train = 0.5711130850385655; valid = 0.7349103465480027\n",
      "Cost after epoch 300 : train = 0.4647188694507914; valid = 0.9523320143887894\n",
      "Cost after epoch 400 : train = 0.5063516519218932; valid = 0.6893888174285532\n",
      "Cost after epoch 500 : train = 0.5107971948130623; valid = 1.061190433954436\n",
      "Cost after epoch 600 : train = 0.5613508815662894; valid = 0.6346276237070025\n",
      "Cost after epoch 700 : train = 0.46121756048944673; valid = 1.3656506569476647\n",
      "Cost after epoch 800 : train = 0.6697487517954324; valid = 0.6922322334054677\n",
      "Cost after epoch 900 : train = 0.4618968085393549; valid = 1.2829184127253006\n",
      "Cost after epoch 1000 : train = 0.5474793072856716; valid = 0.6177779031378745\n",
      "Cost after epoch 1100 : train = 0.358112550924151; valid = 1.2379009481377026\n",
      "Cost after epoch 1200 : train = 0.6301142869103964; valid = 0.8116960510654353\n",
      "Cost after epoch 1300 : train = 0.4011782352517987; valid = 1.7177334601883263\n",
      "Cost after epoch 1400 : train = 0.3521422133675471; valid = 1.1919852953666326\n",
      "Cost after epoch 1500 : train = 0.620007356740531; valid = 0.6870661721094319\n",
      "Cost after epoch 1600 : train = 0.4382023636326828; valid = 0.7415651690767356\n",
      "Cost after epoch 1700 : train = 0.38282677089902517; valid = 2.4805629767717643\n",
      "Cost after epoch 1800 : train = 0.6179223918421822; valid = 0.6611043949032068\n",
      "Cost after epoch 1900 : train = 0.32754424026224815; valid = 2.2102001863535525\n",
      "Cost after epoch 2000 : train = 0.31166385299141863; valid = 1.979395562375371\n",
      "Cost after epoch 2100 : train = 0.3315053823713237; valid = 1.3763796955904382\n",
      "Cost after epoch 2200 : train = 0.33649551014286083; valid = 1.4700744703245503\n",
      "Cost after epoch 2300 : train = 0.27612090760699304; valid = 3.29669967217059\n",
      "Cost after epoch 2400 : train = 0.2799462197342331; valid = 3.345670923311733\n",
      "Cost after epoch 2500 : train = 0.2795063089691199; valid = 3.237044388865026\n",
      "Cost after epoch 2600 : train = 0.26341186365268016; valid = 3.593210873184989\n",
      "Cost after epoch 2700 : train = 0.585709014220099; valid = 4.546504598552664\n",
      "Cost after epoch 2800 : train = 0.620644766592158; valid = 0.6736120048294025\n",
      "Cost after epoch 2900 : train = 0.5321694513881218; valid = 0.5875916155759299\n",
      "Cost after epoch 3000 : train = 0.5322549826981053; valid = 0.604790245690429\n"
     ]
    },
    {
     "data": {
      "image/png": "[encoded data removed]",
      "text/plain": [
       "<Figure size 576x576 with 1 Axes>"
      ]
     },
     "metadata": {},
     "output_type": "display_data"
    }
   ],
   "source": [
    "n_x = train_x_norm.shape[0]\n",
    "n_h = 7\n",
    "n_y = 1\n",
    "parameters = my_DNN_model(X = train_x_norm, Y = train_y, layers_dims = (n_x,n_h,n_y),X_valid = test_x_norm, Y_valid = test_y, learning_rate=0.1)"
   ]
  },
  {
   "cell_type": "markdown",
   "metadata": {
    "heading_collapsed": true
   },
   "source": [
    "### 9.5.2 Predict and compute accuracy"
   ]
  },
  {
   "cell_type": "code",
   "execution_count": 94,
   "metadata": {
    "hidden": true
   },
   "outputs": [
    {
     "name": "stdout",
     "output_type": "stream",
     "text": [
      "Accuracy on training set: 65.55023923444976\n",
      "Accuracy on test set: 34.0\n"
     ]
    }
   ],
   "source": [
    "targets_train = predict(X = train_x_norm, parameters=parameters)\n",
    "targets_test = predict(X = test_x_norm, parameters=parameters)\n",
    "print (\"Accuracy on training set: \" + str(accuracy(y_pred=targets_train, y_true=train_y)))\n",
    "print (\"Accuracy on test set: \" + str(accuracy(y_pred=targets_test, y_true=test_y)))"
   ]
  },
  {
   "cell_type": "markdown",
   "metadata": {},
   "source": [
    "# 10. Union my model in one class"
   ]
  },
  {
   "cell_type": "code",
   "execution_count": null,
   "metadata": {},
   "outputs": [],
   "source": [
    "from plotly.offline import download_plotlyjs, init_notebook_mode, plot, iplot\n",
    "import plotly\n",
    "import plotly.graph_objs as go\n",
    "\n",
    "init_notebook_mode(connected=True)"
   ]
  },
  {
   "cell_type": "code",
   "execution_count": 181,
   "metadata": {
    "code_folding": [
     2,
     8,
     30,
     35,
     54,
     59,
     68,
     81,
     87,
     92,
     104,
     115,
     123,
     125,
     130,
     138,
     159
    ]
   },
   "outputs": [],
   "source": [
    "class my_DNN_model:\n",
    "    \n",
    "    def __init__ (self, layers_dims, learning_rate = 0.0075, num_epochs = 2000, print_cost = True):\n",
    "        self.num_epochs = num_epochs\n",
    "        self.learning_rate = learning_rate\n",
    "        self.layers_dims = layers_dims\n",
    "        self.print_cost = print_cost\n",
    "        \n",
    "    def fit (self, x_train, y_train, x_valid, y_valid):\n",
    "        self.parameters = self.__init_parameters()\n",
    "        costs = dict()\n",
    "        costs['train'] = list()\n",
    "        costs['valid'] = list()\n",
    "\n",
    "        for epoch in range(1, self.num_epochs + 1):\n",
    "            AL, caches = self.__model_forward(x_train)\n",
    "            cost_train = compute_cost(AL=AL, Y=y_train)\n",
    "            #compute validation cost error\n",
    "            AL_valid, caches_valid = self.__model_forward(X = x_valid)\n",
    "            cost_valid = self.compute_cost(AL=AL_valid,Y=y_valid)\n",
    "\n",
    "            if self.print_cost and epoch%100 == 0:\n",
    "                print (\"Cost after epoch \" + str(epoch) + \" : train = \" + str(cost_train) + \"; valid = \" + str(cost_valid) )\n",
    "                costs['train'].append(cost_train)\n",
    "                costs['valid'].append(cost_valid)\n",
    "\n",
    "            grads = self.__model_backward(AL=AL, Y=y_train, caches=caches)\n",
    "            self.parameters = self.__update_parameters(grads)\n",
    "\n",
    "        self.__plot_cost_errors_plotly(costs)\n",
    "    def predict(self,x_test):\n",
    "        AL, caches = self.__model_forward(x_test)\n",
    "        targets = (AL > 0.5)\n",
    "        return targets    \n",
    "    #network weights initiliazation\n",
    "    def __init_parameters(self):\n",
    "        \"\"\"\n",
    "        Arguments:\n",
    "            layers_dims - turple of of size L (number nn layers). Each element  i.e layers_dims[i] is number\n",
    "            of neurans in layer i.\n",
    "\n",
    "        Return:\n",
    "            parameters - dict weights of neural network ({\"W1\":[...],\"b1\":[...],...})  \n",
    "        \"\"\"\n",
    "        parameters = dict();\n",
    "        L = len (self.layers_dims) - 1;\n",
    "\n",
    "        for l in range(1, L + 1): # l = 1,2,3...L\n",
    "            parameters['W' + str(l)] = np.random.randn(self.layers_dims[l],self.layers_dims[l-1])*0.01;\n",
    "            parameters['b' + str(l)] = np.zeros((self.layers_dims[l],1));\n",
    "\n",
    "        return parameters;\n",
    "    \n",
    "    #forward propagation\n",
    "    def __model_forward(self, X): \n",
    "        caches = [];\n",
    "        L = len(self.parameters) // 2;\n",
    "        A_prev = X;\n",
    "\n",
    "        for l in range(1,L):\n",
    "            W = self.parameters[\"W\" + str(l)];\n",
    "            b = self.parameters[\"b\" + str(l)];\n",
    "            A_prev, current_cache = self.__linear_activation_forward(A_prev, W, b, activation = \"relu\");\n",
    "            caches.append(current_cache);\n",
    "\n",
    "        AL, current_cache = linear_activation_forward(A_prev, self.parameters[\"W\" + str(L)], self.parameters[\"b\" + str(L)], activation = \"sigmoid\" );\n",
    "        caches.append(current_cache)\n",
    "        return AL, caches;\n",
    "    def __linear_activation_forward(self, A_prev, W, b, activation):    \n",
    "        Z, activation_cache = linear_forward(A_prev, W, b);\n",
    "        #print ('linear_activ_forw:')\n",
    "        #print(Z.shape)\n",
    "        if activation == \"relu\":\n",
    "            A = relu(Z);\n",
    "        elif activation == \"sigmoid\":\n",
    "            A = sigmoid(Z);\n",
    "        #print (A.shape)\n",
    "        #print('------------')\n",
    "        linear_cache = (A_prev, W, b)\n",
    "        caches = (linear_cache, activation_cache)\n",
    "        return A, caches;\n",
    "    def __linear_forward(self, A_prev, W, b):\n",
    "        Z = np.dot(W,A_prev) + b;\n",
    "        cache = Z\n",
    "        return Z, cache;\n",
    "    \n",
    "    #compute cost\n",
    "    def compute_cost(self, AL, Y):\n",
    "        m = Y.shape[1];\n",
    "        return -np.sum(Y*np.log(AL) + (1 - Y)*np.log(1 - AL))/m\n",
    "    \n",
    "    #backward propagation\n",
    "    def __model_backward(self, AL, Y, caches): \n",
    "        grads = dict();\n",
    "        L = len(caches)\n",
    "\n",
    "        dAL = - ( np.divide(Y,AL) - np.divide(1 - Y, 1 - AL));\n",
    "        dA_prev = dAL\n",
    "        current_cache = caches[L-1] # 0,1,2,...,L-1\n",
    "        grads[\"dA\" + str(L-1)], grads[\"dW\" + str(L)], grads[\"db\" + str(L)] = linear_activation_backward(  dAL, current_cache, activation = \"sigmoid\");\n",
    "        for l in range(L - 1, 0, -1):\n",
    "            current_cache = caches[l-1];\n",
    "            grads[\"dA\" + str(l-1)], grads[\"dW\" + str(l)], grads[\"db\" + str(l)] = linear_activation_backward(grads['dA' + str(l)], current_cache,  activation = \"relu\")\n",
    "        return grads;\n",
    "    def __linear_activation_backward(self, dA, cache, activation):\n",
    "\n",
    "        linear_cache, activation_cache = cache\n",
    "        if activation == 'sigmoid':\n",
    "            dZ = sigmoid_backward(activation_cache, dA)\n",
    "            dA_prev, dW, db = linear_backward(linear_cache, dZ)\n",
    "        elif activation == 'relu':\n",
    "            dZ = relu_backward(activation_cache, dA)\n",
    "            dA_prev, dW, db = linear_backward(linear_cache, dZ)\n",
    "\n",
    "        return dA_prev, dW, db\n",
    "    def __linear_backward(self, linear_cache, dZ):\n",
    "        A_prev, W, b = linear_cache\n",
    "        m = A_prev.shape[1]\n",
    "\n",
    "        dW = np.dot(dZ, A_prev.transpose()) / m;\n",
    "        db = np.sum(dZ, axis = 1, keepdims = True) / m;\n",
    "        dA_prev = np.dot(W.transpose(),dZ)\n",
    "        return dA_prev, dW, db\n",
    "    def __sigmoid_backward(self, Z, dA):\n",
    "        return dA*divide_sigmoid(Z);\n",
    "    def __relu_backward(self, Z, dA):\n",
    "        dZ = dA * divide_relu(Z);\n",
    "        return dZ;\n",
    "    \n",
    "    #update parameters\n",
    "    def __update_parameters (self, grads):\n",
    "        parameters = self.parameters\n",
    "        L = len(parameters) // 2\n",
    "        for l in range(1, L + 1):\n",
    "            parameters['W' + str(l)] = parameters['W' + str(l)] - self.learning_rate*grads['dW' + str(l)];\n",
    "            parameters['b' + str(l)] = parameters['b' + str(l)] - self.learning_rate*grads['db' + str(l)];\n",
    "        return parameters;\n",
    "    #plot costs value\n",
    "    def __plot_cost_errors_plotly(self, costs):\n",
    "        # создаем линию для числа проданных копий\n",
    "        trace0 = go.Scatter(\n",
    "            x = np.arange(100,self.num_epochs + 100,100),\n",
    "            y = np.squeeze(costs['train']),\n",
    "            name='train error'\n",
    "        )\n",
    "        \n",
    "        trace1 = go.Scatter(\n",
    "            x = np.arange(100,self.num_epochs + 100,100),\n",
    "            y = np.squeeze(costs['valid']),\n",
    "            name='test error'\n",
    "        )\n",
    "        # определяем массив данных и задаем title графика в layout\n",
    "        data = [trace0, trace1]\n",
    "        layout = {'title': 'LogLoss value'}\n",
    "\n",
    "        # cоздаем объект Figure и визуализируем его\n",
    "        fig = go.Figure(data=data, layout=layout)\n",
    "        iplot(fig, show_link=False)\n",
    "        \n",
    "    def __plot_cost_errors(self, costs, image_name_to_save = 'errors.png'):\n",
    "    \n",
    "        plt.plot(range(100,self.num_epochs + 100,100),np.squeeze(costs['train']))\n",
    "        plt.plot(range(100,self.num_epochs + 100,100), np.squeeze(costs['valid']))\n",
    "\n",
    "        font = {'color':'black', 'fontname':'Arial', 'weight':'normal'}\n",
    "\n",
    "        plt.ylabel('cost', size = 15, fontdict = font)\n",
    "        plt.xlabel('iterations (per tens)', size = 15, fontdict = font)\n",
    "\n",
    "        plt.title(\"Learning rate =\" + str(self.learning_rate),  size = 20, color = 'black', fontname = 'Arial', weight = 'normal')\n",
    "\n",
    "        plt.xticks(size = 12, color = 'black', fontname = 'Arial', weight = 'normal')\n",
    "        plt.yticks(size = 12, color = 'black', fontname = 'Arial', weight = 'normal')\n",
    "\n",
    "        plt.xlim(100,self.num_epochs)\n",
    "        plt.legend(['Train error','Validation error'], loc = 'upper right')\n",
    "        plt.savefig(image_name_to_save, bbox_inches  = 'tight')"
   ]
  },
  {
   "cell_type": "code",
   "execution_count": 182,
   "metadata": {},
   "outputs": [
    {
     "name": "stdout",
     "output_type": "stream",
     "text": [
      "Cost after epoch 100 : train = 0.6476517375257501; valid = 0.8504006639650069\n",
      "Cost after epoch 200 : train = 0.6359569826225756; valid = 0.8419163101612969\n",
      "Cost after epoch 300 : train = 0.6085979056901557; valid = 0.7980546336719873\n",
      "Cost after epoch 400 : train = 0.5688272569827137; valid = 0.7701811426880443\n",
      "Cost after epoch 500 : train = 0.5277867610700724; valid = 0.7588845376049426\n",
      "Cost after epoch 600 : train = 0.48483745533789735; valid = 0.6977772258680959\n",
      "Cost after epoch 700 : train = 0.4252590418954293; valid = 0.6046635410883848\n",
      "Cost after epoch 800 : train = 0.39914074344074535; valid = 0.5003987850440147\n",
      "Cost after epoch 900 : train = 0.3864775916869462; valid = 0.4762629145244678\n",
      "Cost after epoch 1000 : train = 0.35708568863347434; valid = 0.48132253207219833\n",
      "Cost after epoch 1100 : train = 0.32710570693356805; valid = 0.49496645790943594\n",
      "Cost after epoch 1200 : train = 0.2978328623866093; valid = 0.5112716133290237\n",
      "Cost after epoch 1300 : train = 0.2714569637360339; valid = 0.5297970257778913\n",
      "Cost after epoch 1400 : train = 0.31779881025832; valid = 0.5317204864370811\n",
      "Cost after epoch 1500 : train = 0.1446634263601908; valid = 0.6817142364391209\n",
      "Cost after epoch 1600 : train = 0.16123713543036025; valid = 0.626924202646036\n",
      "Cost after epoch 1700 : train = 0.10503612246080571; valid = 0.7711356514374667\n",
      "Cost after epoch 1800 : train = 0.09384429610612134; valid = 0.8178466276563405\n",
      "Cost after epoch 1900 : train = 0.07902289753029793; valid = 0.8837939892382587\n",
      "Cost after epoch 2000 : train = 0.06701329934452763; valid = 0.9226555517023728\n"
     ]
    },
    {
     "data": {
      "application/vnd.plotly.v1+json": {
       "data": [
        {
         "name": "train error",
         "type": "scatter",
         "uid": "0c288e82-c258-11e8-8919-8943d58f4779",
         "x": [
          100,
          200,
          300,
          400,
          500,
          600,
          700,
          800,
          900,
          1000,
          1100,
          1200,
          1300,
          1400,
          1500,
          1600,
          1700,
          1800,
          1900,
          2000
         ],
         "y": [
          0.6476517375257501,
          0.6359569826225756,
          0.6085979056901557,
          0.5688272569827137,
          0.5277867610700724,
          0.48483745533789735,
          0.4252590418954293,
          0.39914074344074535,
          0.3864775916869462,
          0.35708568863347434,
          0.32710570693356805,
          0.2978328623866093,
          0.2714569637360339,
          0.31779881025832,
          0.1446634263601908,
          0.16123713543036025,
          0.10503612246080571,
          0.09384429610612134,
          0.07902289753029793,
          0.06701329934452763
         ]
        },
        {
         "name": "test error",
         "type": "scatter",
         "uid": "0c586624-c258-11e8-9fec-8943d58f4779",
         "x": [
          100,
          200,
          300,
          400,
          500,
          600,
          700,
          800,
          900,
          1000,
          1100,
          1200,
          1300,
          1400,
          1500,
          1600,
          1700,
          1800,
          1900,
          2000
         ],
         "y": [
          0.8504006639650069,
          0.8419163101612969,
          0.7980546336719873,
          0.7701811426880443,
          0.7588845376049426,
          0.6977772258680959,
          0.6046635410883848,
          0.5003987850440147,
          0.4762629145244678,
          0.48132253207219833,
          0.49496645790943594,
          0.5112716133290237,
          0.5297970257778913,
          0.5317204864370811,
          0.6817142364391209,
          0.626924202646036,
          0.7711356514374667,
          0.8178466276563405,
          0.8837939892382587,
          0.9226555517023728
         ]
        }
       ],
       "layout": {
        "title": "LogLoss value"
       }
      },
      "text/html": [
       "<div id=\"bc08a6fa-302b-45fa-a5b3-c419a336754c\" style=\"height: 525px; width: 100%;\" class=\"plotly-graph-div\"></div><script type=\"text/javascript\">require([\"plotly\"], function(Plotly) { window.PLOTLYENV=window.PLOTLYENV || {};window.PLOTLYENV.BASE_URL=\"https://plot.ly\";Plotly.newPlot(\"bc08a6fa-302b-45fa-a5b3-c419a336754c\", [{\"name\": \"train error\", \"x\": [100, 200, 300, 400, 500, 600, 700, 800, 900, 1000, 1100, 1200, 1300, 1400, 1500, 1600, 1700, 1800, 1900, 2000], \"y\": [0.6476517375257501, 0.6359569826225756, 0.6085979056901557, 0.5688272569827137, 0.5277867610700724, 0.48483745533789735, 0.4252590418954293, 0.39914074344074535, 0.3864775916869462, 0.35708568863347434, 0.32710570693356805, 0.2978328623866093, 0.2714569637360339, 0.31779881025832, 0.1446634263601908, 0.16123713543036025, 0.10503612246080571, 0.09384429610612134, 0.07902289753029793, 0.06701329934452763], \"type\": \"scatter\", \"uid\": \"0c288e82-c258-11e8-8919-8943d58f4779\"}, {\"name\": \"test error\", \"x\": [100, 200, 300, 400, 500, 600, 700, 800, 900, 1000, 1100, 1200, 1300, 1400, 1500, 1600, 1700, 1800, 1900, 2000], \"y\": [0.8504006639650069, 0.8419163101612969, 0.7980546336719873, 0.7701811426880443, 0.7588845376049426, 0.6977772258680959, 0.6046635410883848, 0.5003987850440147, 0.4762629145244678, 0.48132253207219833, 0.49496645790943594, 0.5112716133290237, 0.5297970257778913, 0.5317204864370811, 0.6817142364391209, 0.626924202646036, 0.7711356514374667, 0.8178466276563405, 0.8837939892382587, 0.9226555517023728], \"type\": \"scatter\", \"uid\": \"0c586624-c258-11e8-9fec-8943d58f4779\"}], {\"title\": \"LogLoss value\"}, {\"showLink\": false, \"linkText\": \"Export to plot.ly\"})});</script>"
      ],
      "text/vnd.plotly.v1+html": [
       "<div id=\"bc08a6fa-302b-45fa-a5b3-c419a336754c\" style=\"height: 525px; width: 100%;\" class=\"plotly-graph-div\"></div><script type=\"text/javascript\">require([\"plotly\"], function(Plotly) { window.PLOTLYENV=window.PLOTLYENV || {};window.PLOTLYENV.BASE_URL=\"https://plot.ly\";Plotly.newPlot(\"bc08a6fa-302b-45fa-a5b3-c419a336754c\", [{\"name\": \"train error\", \"x\": [100, 200, 300, 400, 500, 600, 700, 800, 900, 1000, 1100, 1200, 1300, 1400, 1500, 1600, 1700, 1800, 1900, 2000], \"y\": [0.6476517375257501, 0.6359569826225756, 0.6085979056901557, 0.5688272569827137, 0.5277867610700724, 0.48483745533789735, 0.4252590418954293, 0.39914074344074535, 0.3864775916869462, 0.35708568863347434, 0.32710570693356805, 0.2978328623866093, 0.2714569637360339, 0.31779881025832, 0.1446634263601908, 0.16123713543036025, 0.10503612246080571, 0.09384429610612134, 0.07902289753029793, 0.06701329934452763], \"type\": \"scatter\", \"uid\": \"0c288e82-c258-11e8-8919-8943d58f4779\"}, {\"name\": \"test error\", \"x\": [100, 200, 300, 400, 500, 600, 700, 800, 900, 1000, 1100, 1200, 1300, 1400, 1500, 1600, 1700, 1800, 1900, 2000], \"y\": [0.8504006639650069, 0.8419163101612969, 0.7980546336719873, 0.7701811426880443, 0.7588845376049426, 0.6977772258680959, 0.6046635410883848, 0.5003987850440147, 0.4762629145244678, 0.48132253207219833, 0.49496645790943594, 0.5112716133290237, 0.5297970257778913, 0.5317204864370811, 0.6817142364391209, 0.626924202646036, 0.7711356514374667, 0.8178466276563405, 0.8837939892382587, 0.9226555517023728], \"type\": \"scatter\", \"uid\": \"0c586624-c258-11e8-9fec-8943d58f4779\"}], {\"title\": \"LogLoss value\"}, {\"showLink\": false, \"linkText\": \"Export to plot.ly\"})});</script>"
      ]
     },
     "metadata": {},
     "output_type": "display_data"
    },
    {
     "name": "stdout",
     "output_type": "stream",
     "text": [
      "Accuracy on test set: 68.0\n"
     ]
    }
   ],
   "source": [
    "n_x = train_x_norm.shape[0]\n",
    "n_h = 7\n",
    "n_y = 1\n",
    "model = my_DNN_model((n_x,n_h,n_y))\n",
    "model.fit(train_x_norm, train_y, test_x_norm, test_y)\n",
    "targets = model.predict(test_x_norm)\n",
    "print (\"Accuracy on test set: \" + str(accuracy(y_pred=targets, y_true=test_y)))"
   ]
  },
  {
   "cell_type": "code",
   "execution_count": 178,
   "metadata": {},
   "outputs": [
    {
     "data": {
      "text/plain": [
       "array([0, 1, 2, 3, 4, 5, 6, 7, 8, 9])"
      ]
     },
     "execution_count": 178,
     "metadata": {},
     "output_type": "execute_result"
    }
   ],
   "source": [
    "np.arange(0,10,1)"
   ]
  },
  {
   "cell_type": "code",
   "execution_count": null,
   "metadata": {},
   "outputs": [],
   "source": []
  }
 ],
 "metadata": {
  "kernelspec": {
   "display_name": "Python 3",
   "language": "python",
   "name": "python3"
  },
  "language_info": {
   "codemirror_mode": {
    "name": "ipython",
    "version": 3
   },
   "file_extension": ".py",
   "mimetype": "text/x-python",
   "name": "python",
   "nbconvert_exporter": "python",
   "pygments_lexer": "ipython3",
   "version": "3.6.5"
  }
 },
 "nbformat": 4,
 "nbformat_minor": 2
}
